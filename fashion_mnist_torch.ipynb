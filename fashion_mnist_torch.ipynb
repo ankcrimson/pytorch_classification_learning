{
 "cells": [
  {
   "cell_type": "code",
   "execution_count": 1,
   "metadata": {},
   "outputs": [
    {
     "data": {
      "text/plain": [
       "<Figure size 216x216 with 0 Axes>"
      ]
     },
     "execution_count": 1,
     "metadata": {},
     "output_type": "execute_result"
    },
    {
     "data": {
      "text/plain": [
       "<Figure size 216x216 with 0 Axes>"
      ]
     },
     "metadata": {},
     "output_type": "display_data"
    }
   ],
   "source": [
    "import torchvision\n",
    "import torchvision.transforms as transforms\n",
    "import torch\n",
    "import torch.nn as nn\n",
    "import torch.nn.functional as F\n",
    "import matplotlib.pyplot as plt\n",
    "import numpy as np\n",
    "plt.figure(figsize = (3,3)) #define the image size"
   ]
  },
  {
   "cell_type": "code",
   "execution_count": 2,
   "metadata": {},
   "outputs": [],
   "source": [
    "transform = transforms.Compose(\n",
    "    [transforms.RandomHorizontalFlip(),\n",
    "     transforms.RandomAffine(degrees=40, scale=(.9, 1.1), shear=0),\n",
    "    transforms.RandomPerspective(distortion_scale=0.2),\n",
    "    transforms.ToTensor(),\n",
    "     transforms.Normalize((0.5,), (0.5, ))])\n",
    "\n",
    "\n",
    "trainset = torchvision.datasets.FashionMNIST(root = \"./data\", train = True, download = True, transform = transform)\n",
    "testset = torchvision.datasets.FashionMNIST(root = \"./data\", train = False, download = True, transform = transform)"
   ]
  },
  {
   "cell_type": "code",
   "execution_count": 3,
   "metadata": {},
   "outputs": [],
   "source": [
    "#loading the training data from trainset\n",
    "# trainloader = torch.utils.data.DataLoader(trainset, batch_size=4, shuffle = True)\n",
    "trainloader = torch.utils.data.DataLoader(trainset, batch_size=4, shuffle = True)\n",
    "#loading the test data from testset\n",
    "testloader = torch.utils.data.DataLoader(testset, batch_size=4, shuffle=False)"
   ]
  },
  {
   "cell_type": "code",
   "execution_count": 4,
   "metadata": {},
   "outputs": [],
   "source": [
    "classes = ('T-Shirt','Trouser','Pullover','Dress','Coat','Sandal','Shirt','Sneaker','Bag','Ankle Boot')\n",
    "def imshow(img):\n",
    "    npimg = img.numpy() #convert the tensor to numpy for displaying the image\n",
    "    #for displaying the image, shape of the image should be height * width * channels \n",
    "    plt.imshow(np.transpose(npimg, (1, 2, 0))) \n",
    "    plt.show()"
   ]
  },
  {
   "cell_type": "code",
   "execution_count": 5,
   "metadata": {},
   "outputs": [
    {
     "name": "stdout",
     "output_type": "stream",
     "text": [
      "60000\n",
      "60000\n"
     ]
    }
   ],
   "source": [
    "print(len(trainset.data))\n",
    "print(len(trainset.targets))"
   ]
  },
  {
   "cell_type": "code",
   "execution_count": 6,
   "metadata": {},
   "outputs": [
    {
     "data": {
      "image/png": "[encoded data removed]",
      "text/plain": [
       "<Figure size 432x288 with 1 Axes>"
      ]
     },
     "metadata": {
      "needs_background": "light"
     },
     "output_type": "display_data"
    },
    {
     "name": "stdout",
     "output_type": "stream",
     "text": [
      "['T-shirt/top', 'Trouser', 'Pullover', 'Dress', 'Coat', 'Sandal', 'Shirt', 'Sneaker', 'Bag', 'Ankle boot']\n",
      "tensor(9)\n",
      "Ankle boot\n",
      "784 28\n"
     ]
    }
   ],
   "source": [
    "# imshow(trainset.data.[0])\n",
    "itemNumber=0\n",
    "npimg=trainset.data[itemNumber].numpy()\n",
    "plt.imshow(npimg)\n",
    "plt.show()\n",
    "print(trainset.classes)\n",
    "print(trainset.targets[itemNumber])\n",
    "print(trainset.classes[trainset.targets[itemNumber].item()])\n",
    "print(npimg.size,len(npimg))"
   ]
  },
  {
   "cell_type": "code",
   "execution_count": 7,
   "metadata": {},
   "outputs": [],
   "source": [
    "# Create NN\n",
    "# REF: https://pytorch.org/tutorials/beginner/blitz/cifar10_tutorial.html#sphx-glr-beginner-blitz-cifar10-tutorial-py"
   ]
  },
  {
   "cell_type": "code",
   "execution_count": 8,
   "metadata": {},
   "outputs": [],
   "source": [
    "class Net(nn.Module):\n",
    "    def __init__(self):\n",
    "        super(Net, self).__init__()\n",
    "        self.conv1 = nn.Conv2d(1, 6, 5)\n",
    "        self.pool = nn.MaxPool2d(2, 2)\n",
    "        self.conv2 = nn.Conv2d(6, 16, 5)\n",
    "        self.fc1 = nn.Linear(256, 120) #16 * 5 * 5 -> 1024\n",
    "        self.fc2 = nn.Linear(120, 84)\n",
    "        self.fc3 = nn.Linear(84, 10)\n",
    "        self.d1 = nn.Dropout(0.2)\n",
    "\n",
    "    def forward(self, x):\n",
    "#         print(x.size())\n",
    "        x = self.pool(F.relu(self.conv1(x)))\n",
    "#         print(x.size())\n",
    "        x = self.pool(F.relu(self.conv2(x)))\n",
    "#         print(x.size())\n",
    "        x = x.view(-1, 256) # 16 * 5 * 5 -> 1024\n",
    "#         print(x.size())\n",
    "        x = F.relu(self.fc1(x))\n",
    "#         print(x.size())\n",
    "        x = F.relu(self.fc2(x))\n",
    "        x = self.d1(x)\n",
    "#         print(x.size())\n",
    "        x = self.fc3(x)\n",
    "#         print(x.size())\n",
    "        return x\n",
    "\n",
    "\n",
    "net = Net()\n",
    "\n",
    "\n"
   ]
  },
  {
   "cell_type": "code",
   "execution_count": 9,
   "metadata": {},
   "outputs": [],
   "source": [
    "import torch.optim as optim\n",
    "\n",
    "criterion = nn.CrossEntropyLoss()\n",
    "optimizer = optim.Adam(net.parameters(), lr=0.001)"
   ]
  },
  {
   "cell_type": "code",
   "execution_count": 10,
   "metadata": {},
   "outputs": [
    {
     "name": "stdout",
     "output_type": "stream",
     "text": [
      "[1,  2000] loss: 1.162\n",
      "[1,  4000] loss: 0.834\n",
      "[1,  6000] loss: 0.779\n",
      "[1,  8000] loss: 0.721\n",
      "[1, 10000] loss: 0.712\n",
      "[1, 12000] loss: 0.650\n",
      "[1, 14000] loss: 0.654\n",
      "[2,  2000] loss: 0.625\n",
      "[2,  4000] loss: 0.612\n",
      "[2,  6000] loss: 0.626\n",
      "[2,  8000] loss: 0.602\n",
      "[2, 10000] loss: 0.607\n",
      "[2, 12000] loss: 0.564\n",
      "[2, 14000] loss: 0.609\n",
      "[3,  2000] loss: 0.574\n",
      "[3,  4000] loss: 0.562\n",
      "[3,  6000] loss: 0.558\n",
      "[3,  8000] loss: 0.564\n",
      "[3, 10000] loss: 0.566\n",
      "[3, 12000] loss: 0.551\n",
      "[3, 14000] loss: 0.549\n",
      "[4,  2000] loss: 0.521\n",
      "[4,  4000] loss: 0.540\n",
      "[4,  6000] loss: 0.539\n",
      "[4,  8000] loss: 0.548\n",
      "[4, 10000] loss: 0.540\n",
      "[4, 12000] loss: 0.537\n",
      "[4, 14000] loss: 0.526\n",
      "[5,  2000] loss: 0.516\n",
      "[5,  4000] loss: 0.530\n",
      "[5,  6000] loss: 0.527\n",
      "[5,  8000] loss: 0.518\n",
      "[5, 10000] loss: 0.523\n",
      "[5, 12000] loss: 0.531\n",
      "[5, 14000] loss: 0.518\n",
      "[6,  2000] loss: 0.498\n",
      "[6,  4000] loss: 0.514\n",
      "[6,  6000] loss: 0.520\n",
      "[6,  8000] loss: 0.514\n",
      "[6, 10000] loss: 0.514\n",
      "[6, 12000] loss: 0.528\n",
      "[6, 14000] loss: 0.503\n",
      "[7,  2000] loss: 0.514\n",
      "[7,  4000] loss: 0.491\n",
      "[7,  6000] loss: 0.502\n",
      "[7,  8000] loss: 0.497\n",
      "[7, 10000] loss: 0.513\n",
      "[7, 12000] loss: 0.508\n",
      "[7, 14000] loss: 0.490\n",
      "[8,  2000] loss: 0.512\n",
      "[8,  4000] loss: 0.477\n",
      "[8,  6000] loss: 0.507\n",
      "[8,  8000] loss: 0.482\n",
      "[8, 10000] loss: 0.504\n",
      "[8, 12000] loss: 0.491\n",
      "[8, 14000] loss: 0.496\n",
      "[9,  2000] loss: 0.509\n",
      "[9,  4000] loss: 0.498\n",
      "[9,  6000] loss: 0.493\n",
      "[9,  8000] loss: 0.518\n",
      "[9, 10000] loss: 0.494\n",
      "[9, 12000] loss: 0.497\n",
      "[9, 14000] loss: 0.490\n",
      "[10,  2000] loss: 0.505\n",
      "[10,  4000] loss: 0.477\n",
      "[10,  6000] loss: 0.494\n",
      "[10,  8000] loss: 0.496\n",
      "[10, 10000] loss: 0.487\n",
      "[10, 12000] loss: 0.484\n",
      "[10, 14000] loss: 0.500\n",
      "[11,  2000] loss: 0.481\n",
      "[11,  4000] loss: 0.508\n",
      "[11,  6000] loss: 0.487\n",
      "[11,  8000] loss: 0.499\n",
      "[11, 10000] loss: 0.485\n",
      "[11, 12000] loss: 0.488\n",
      "[11, 14000] loss: 0.480\n",
      "[12,  2000] loss: 0.482\n",
      "[12,  4000] loss: 0.500\n",
      "[12,  6000] loss: 0.485\n",
      "[12,  8000] loss: 0.489\n",
      "[12, 10000] loss: 0.492\n",
      "[12, 12000] loss: 0.487\n",
      "[12, 14000] loss: 0.483\n",
      "[13,  2000] loss: 0.470\n",
      "[13,  4000] loss: 0.489\n",
      "[13,  6000] loss: 0.488\n",
      "[13,  8000] loss: 0.484\n",
      "[13, 10000] loss: 0.482\n",
      "[13, 12000] loss: 0.490\n",
      "[13, 14000] loss: 0.490\n",
      "[14,  2000] loss: 0.493\n",
      "[14,  4000] loss: 0.486\n",
      "[14,  6000] loss: 0.485\n",
      "[14,  8000] loss: 0.492\n",
      "[14, 10000] loss: 0.497\n",
      "[14, 12000] loss: 0.493\n",
      "[14, 14000] loss: 0.478\n",
      "[15,  2000] loss: 0.484\n",
      "[15,  4000] loss: 0.479\n",
      "[15,  6000] loss: 0.496\n",
      "[15,  8000] loss: 0.482\n",
      "[15, 10000] loss: 0.487\n",
      "[15, 12000] loss: 0.473\n",
      "[15, 14000] loss: 0.462\n",
      "[16,  2000] loss: 0.501\n",
      "[16,  4000] loss: 0.476\n",
      "[16,  6000] loss: 0.481\n",
      "[16,  8000] loss: 0.485\n",
      "[16, 10000] loss: 0.486\n",
      "[16, 12000] loss: 0.491\n",
      "[16, 14000] loss: 0.482\n",
      "[17,  2000] loss: 0.477\n",
      "[17,  4000] loss: 0.477\n",
      "[17,  6000] loss: 0.472\n",
      "[17,  8000] loss: 0.482\n",
      "[17, 10000] loss: 0.491\n",
      "[17, 12000] loss: 0.485\n",
      "[17, 14000] loss: 0.483\n",
      "[18,  2000] loss: 0.447\n",
      "[18,  4000] loss: 0.501\n",
      "[18,  6000] loss: 0.476\n",
      "[18,  8000] loss: 0.466\n",
      "[18, 10000] loss: 0.489\n",
      "[18, 12000] loss: 0.498\n",
      "[18, 14000] loss: 0.493\n",
      "[19,  2000] loss: 0.468\n",
      "[19,  4000] loss: 0.495\n",
      "[19,  6000] loss: 0.481\n",
      "[19,  8000] loss: 0.482\n",
      "[19, 10000] loss: 0.490\n",
      "[19, 12000] loss: 0.494\n",
      "[19, 14000] loss: 0.485\n",
      "[20,  2000] loss: 0.478\n",
      "[20,  4000] loss: 0.490\n",
      "[20,  6000] loss: 0.484\n",
      "[20,  8000] loss: 0.494\n",
      "[20, 10000] loss: 0.474\n",
      "[20, 12000] loss: 0.480\n",
      "[20, 14000] loss: 0.489\n",
      "Finished Training\n"
     ]
    },
    {
     "data": {
      "text/plain": [
       "[<matplotlib.lines.Line2D at 0x13248c2b0>]"
      ]
     },
     "execution_count": 10,
     "metadata": {},
     "output_type": "execute_result"
    },
    {
     "data": {
      "image/png": "[encoded data removed]",
      "text/plain": [
       "<Figure size 432x288 with 1 Axes>"
      ]
     },
     "metadata": {
      "needs_background": "light"
     },
     "output_type": "display_data"
    }
   ],
   "source": [
    "loss_hist=[]\n",
    "for epoch in range(20):  # loop over the dataset multiple times\n",
    "\n",
    "    running_loss = 0.0\n",
    "    for i, data in enumerate(trainloader, 0):\n",
    "        # get the inputs; data is a list of [inputs, labels]\n",
    "        inputs, labels = data\n",
    "#         print(inputs,labels)\n",
    "        # zero the parameter gradients\n",
    "        optimizer.zero_grad()\n",
    "\n",
    "        # forward + backward + optimize\n",
    "        outputs = net(inputs)\n",
    "        loss = criterion(outputs, labels)\n",
    "        loss.backward()\n",
    "        optimizer.step()\n",
    "        # print statistics\n",
    "        running_loss += loss.item()\n",
    "        if i % 2000 == 1999:    # print every 2000 mini-batches\n",
    "            print('[%d, %5d] loss: %.3f' %(epoch + 1, i + 1, running_loss / 2000))\n",
    "            loss_hist.append(running_loss / 2000)\n",
    "            running_loss = 0.0\n",
    "\n",
    "print('Finished Training')\n",
    "plt.plot(loss_hist)"
   ]
  },
  {
   "cell_type": "code",
   "execution_count": 11,
   "metadata": {},
   "outputs": [],
   "source": [
    "import random\n",
    "x = random.random()\n",
    "y=str(x)[3:10]"
   ]
  },
  {
   "cell_type": "code",
   "execution_count": 12,
   "metadata": {},
   "outputs": [],
   "source": [
    "\n",
    "PATH = f'./fashionmnist_net_adam_{y}.pth'\n",
    "torch.save(net.state_dict(), PATH)"
   ]
  },
  {
   "cell_type": "code",
   "execution_count": 13,
   "metadata": {},
   "outputs": [
    {
     "name": "stderr",
     "output_type": "stream",
     "text": [
      "Clipping input data to the valid range for imshow with RGB data ([0..1] for floats or [0..255] for integers).\n"
     ]
    },
    {
     "data": {
      "image/png": "[encoded data removed]",
      "text/plain": [
       "<Figure size 432x288 with 1 Axes>"
      ]
     },
     "metadata": {
      "needs_background": "light"
     },
     "output_type": "display_data"
    },
    {
     "name": "stdout",
     "output_type": "stream",
     "text": [
      "GroundTruth:  Ankle Boot Pullover Trouser Trouser\n"
     ]
    }
   ],
   "source": [
    "dataiter = iter(testloader)\n",
    "images, labels = dataiter.next()\n",
    "\n",
    "# print images\n",
    "imshow(torchvision.utils.make_grid(images))\n",
    "print('GroundTruth: ', ' '.join('%5s' % classes[labels[j]] for j in range(4)))"
   ]
  },
  {
   "cell_type": "code",
   "execution_count": 14,
   "metadata": {},
   "outputs": [
    {
     "data": {
      "text/plain": [
       "<All keys matched successfully>"
      ]
     },
     "execution_count": 14,
     "metadata": {},
     "output_type": "execute_result"
    }
   ],
   "source": [
    "net = Net()\n",
    "# PATH = './fashionmnist_net_adam.pth'\n",
    "net.load_state_dict(torch.load(PATH))"
   ]
  },
  {
   "cell_type": "code",
   "execution_count": 15,
   "metadata": {},
   "outputs": [],
   "source": [
    "outputs = net(images)"
   ]
  },
  {
   "cell_type": "code",
   "execution_count": 16,
   "metadata": {},
   "outputs": [
    {
     "name": "stdout",
     "output_type": "stream",
     "text": [
      "Predicted:  Ankle Boot Pullover Trouser Trouser\n"
     ]
    }
   ],
   "source": [
    "_, predicted = torch.max(outputs, 1)\n",
    "\n",
    "print('Predicted: ', ' '.join('%5s' % classes[predicted[j]]\n",
    "                              for j in range(4)))"
   ]
  },
  {
   "cell_type": "code",
   "execution_count": 17,
   "metadata": {},
   "outputs": [
    {
     "name": "stdout",
     "output_type": "stream",
     "text": [
      "Accuracy of the network on the 10000 test images: 80 %\n"
     ]
    }
   ],
   "source": [
    "correct = 0\n",
    "total = 0\n",
    "with torch.no_grad():\n",
    "    for data in testloader:\n",
    "        images, labels = data\n",
    "        outputs = net(images)\n",
    "        _, predicted = torch.max(outputs.data, 1)\n",
    "        total += labels.size(0)\n",
    "        correct += (predicted == labels).sum().item()\n",
    "\n",
    "print('Accuracy of the network on the 10000 test images: %d %%' % (\n",
    "    100 * correct / total))"
   ]
  },
  {
   "cell_type": "code",
   "execution_count": 18,
   "metadata": {},
   "outputs": [
    {
     "name": "stdout",
     "output_type": "stream",
     "text": [
      "Accuracy of T-Shirt : 78 %\n",
      "Accuracy of Trouser : 94 %\n",
      "Accuracy of Pullover : 73 %\n",
      "Accuracy of Dress : 78 %\n",
      "Accuracy of  Coat : 63 %\n",
      "Accuracy of Sandal : 86 %\n",
      "Accuracy of Shirt : 45 %\n",
      "Accuracy of Sneaker : 92 %\n",
      "Accuracy of   Bag : 93 %\n",
      "Accuracy of Ankle Boot : 92 %\n"
     ]
    }
   ],
   "source": [
    "class_correct = list(0. for i in range(10))\n",
    "class_total = list(0. for i in range(10))\n",
    "with torch.no_grad():\n",
    "    for data in testloader:\n",
    "        images, labels = data\n",
    "        outputs = net(images)\n",
    "        _, predicted = torch.max(outputs, 1)\n",
    "        c = (predicted == labels).squeeze()\n",
    "        for i in range(4):\n",
    "            label = labels[i]\n",
    "            class_correct[label] += c[i].item()\n",
    "            class_total[label] += 1\n",
    "\n",
    "\n",
    "for i in range(10):\n",
    "    print('Accuracy of %5s : %2d %%' % (\n",
    "        classes[i], 100 * class_correct[i] / class_total[i]))"
   ]
  },
  {
   "cell_type": "code",
   "execution_count": null,
   "metadata": {},
   "outputs": [],
   "source": []
  }
 ],
 "metadata": {
  "kernelspec": {
   "display_name": "Python 3",
   "language": "python",
   "name": "python3"
  },
  "language_info": {
   "codemirror_mode": {
    "name": "ipython",
    "version": 3
   },
   "file_extension": ".py",
   "mimetype": "text/x-python",
   "name": "python",
   "nbconvert_exporter": "python",
   "pygments_lexer": "ipython3",
   "version": "3.8.6"
  }
 },
 "nbformat": 4,
 "nbformat_minor": 4
}
